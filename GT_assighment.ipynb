{
 "cells": [
  {
   "cell_type": "markdown",
   "id": "c0d8ee42",
   "metadata": {},
   "source": [
    "### 1. What is the difference between set and dictionary  , Explain with the suitable example"
   ]
  },
  {
   "cell_type": "raw",
   "id": "04cd9f0d",
   "metadata": {},
   "source": [
    "Set :-\n",
    "    set is mutable and the values are not a fix place.\n",
    "    s = {5,6,8,7,55,14}\n",
    "    \n",
    "Dictionaries :-\n",
    "    Dictionaries are used to store data values in key:value.\n",
    "    di= {'mango':50,'apple':40,'papaya':30,'orange':35}"
   ]
  },
  {
   "cell_type": "markdown",
   "id": "1c4b0fc2",
   "metadata": {},
   "source": [
    "### 2.  Write a program to print the following pattern \n",
    "\n",
    "X\n",
    "XX\n",
    "XXX"
   ]
  },
  {
   "cell_type": "code",
   "execution_count": 32,
   "id": "71afaf2b",
   "metadata": {},
   "outputs": [
    {
     "name": "stdout",
     "output_type": "stream",
     "text": [
      "   * \n",
      "   * * \n",
      "   * * * \n"
     ]
    }
   ],
   "source": [
    "n= 3\n",
    "for i in range(n):\n",
    "    print(\"  \",end = \" \")# rows\n",
    "    for j in range(i+1):    # columns\n",
    "        print(\"*\",end = \" \")\n",
    "        \n",
    "    print()"
   ]
  },
  {
   "cell_type": "markdown",
   "id": "a38fa579",
   "metadata": {},
   "source": [
    "### 3. Write a program to print n natural number in ascending order using a while loop?"
   ]
  },
  {
   "cell_type": "code",
   "execution_count": 33,
   "id": "c7f016ee",
   "metadata": {},
   "outputs": [
    {
     "name": "stdout",
     "output_type": "stream",
     "text": [
      "Enter the value of n: 5\n",
      "1\n",
      "2\n",
      "3\n",
      "4\n",
      "5\n"
     ]
    }
   ],
   "source": [
    "n = int(input(\"Enter the value of n: \"))\n",
    "x = 1\n",
    "while x <= n:\n",
    "    print(x)\n",
    "    x += 1"
   ]
  },
  {
   "cell_type": "markdown",
   "id": "a03a0170",
   "metadata": {},
   "source": [
    "### 4. Write a program in Python to swap between two numbers without using a third variable"
   ]
  },
  {
   "cell_type": "code",
   "execution_count": 34,
   "id": "f4e2b233",
   "metadata": {},
   "outputs": [
    {
     "name": "stdout",
     "output_type": "stream",
     "text": [
      "Enter the first number: 4\n",
      "Enter the second number: 6\n",
      "6\n",
      "4\n"
     ]
    }
   ],
   "source": [
    "x1 = int(input(\"Enter the first number: \"))\n",
    "x2 = int(input(\"Enter the second number: \"))\n",
    "\n",
    "x1 = x1 + x2\n",
    "x2 = x1 - x2\n",
    "x1 = x1 - x2\n",
    "\n",
    "print(x1)\n",
    "print(x2)"
   ]
  },
  {
   "cell_type": "markdown",
   "id": "dcecfcac",
   "metadata": {},
   "source": [
    "### 5. How to Create a Function with Default Arguments in Python.( Example)"
   ]
  },
  {
   "cell_type": "code",
   "execution_count": 35,
   "id": "1a1c9396",
   "metadata": {},
   "outputs": [
    {
     "name": "stdout",
     "output_type": "stream",
     "text": [
      "Name: kiran batch_name: ML5\n",
      "Name: ketan batch_name: ML5\n"
     ]
    }
   ],
   "source": [
    "def collage_ID(name, batch_name='ML5'):\n",
    "    print(\"Name:\", name, \"batch_name:\", batch_name)\n",
    "\n",
    "collage_ID(\"kiran\") \n",
    "\n",
    "collage_ID(\"ketan\")"
   ]
  },
  {
   "cell_type": "markdown",
   "id": "dc724bb7",
   "metadata": {},
   "source": [
    "### 6. Display a square of numbers from 1 to 10 using list comprehension."
   ]
  },
  {
   "cell_type": "code",
   "execution_count": 36,
   "id": "e4b09827",
   "metadata": {},
   "outputs": [
    {
     "name": "stdout",
     "output_type": "stream",
     "text": [
      "[1, 4, 9, 16, 25, 36, 49, 64, 81, 100]\n"
     ]
    }
   ],
   "source": [
    "x = [x**2 for x in range(1, 11)]\n",
    "print(x)\n"
   ]
  },
  {
   "cell_type": "markdown",
   "id": "962c10fe",
   "metadata": {},
   "source": [
    "### 7. What is polymorphism? Explain with example( class)"
   ]
  },
  {
   "cell_type": "raw",
   "id": "7c16077b",
   "metadata": {},
   "source": [
    "polymorphism means multiple forms\n",
    "eg : + operator\n",
    "if we add two integers then two integers will be added and if we add two strings the two strings will be concatenated."
   ]
  },
  {
   "cell_type": "code",
   "execution_count": 37,
   "id": "654ff032",
   "metadata": {},
   "outputs": [
    {
     "name": "stdout",
     "output_type": "stream",
     "text": [
      "30\n"
     ]
    }
   ],
   "source": [
    "a = 10\n",
    "b = 20\n",
    "print(a+b)"
   ]
  },
  {
   "cell_type": "code",
   "execution_count": 38,
   "id": "40e60735",
   "metadata": {},
   "outputs": [
    {
     "name": "stdout",
     "output_type": "stream",
     "text": [
      "purple & black\n"
     ]
    }
   ],
   "source": [
    "a = 'purple & '\n",
    "b = 'black'\n",
    "print(a+b)"
   ]
  },
  {
   "cell_type": "markdown",
   "id": "605e5b93",
   "metadata": {},
   "source": [
    "### 8. Explain conditional probability with example?\n"
   ]
  },
  {
   "cell_type": "raw",
   "id": "ce8fc8cc",
   "metadata": {},
   "source": [
    "eg : the probability of a person having lung cancer given that he smokes."
   ]
  },
  {
   "cell_type": "markdown",
   "id": "bfb435b2",
   "metadata": {},
   "source": [
    "### 9. Explain Emphirical rule  with diagram ."
   ]
  },
  {
   "cell_type": "raw",
   "id": "4057cfce",
   "metadata": {},
   "source": [
    "        +/- SD             percentage\n",
    "           1                   68%\n",
    "           2                   95%\n",
    "           3                   99.7%\n",
    "it means 68% of the sample will fall within +/-1 standard deviation away from the mean."
   ]
  },
  {
   "cell_type": "markdown",
   "id": "9badcd2e",
   "metadata": {},
   "source": [
    "### 10.What is Hypothesis Testing ? What is the Role of p value in HT?"
   ]
  },
  {
   "cell_type": "raw",
   "id": "133bad87",
   "metadata": {},
   "source": [
    "suppose, H0 = person has done the murder\n",
    "         H1 = person is innocent\n",
    "p-value is the probability of null hypothesis being true        \n",
    "if p <= 0.05 then H0 will be accepted\n",
    "p-value decides whether the person is guilty or innocent"
   ]
  },
  {
   "cell_type": "markdown",
   "id": "846f9bac",
   "metadata": {},
   "source": [
    "### Q2) List all the probability distributions with example?       5*1 = 5"
   ]
  },
  {
   "cell_type": "raw",
   "id": "58f2d4e2",
   "metadata": {},
   "source": [
    "1.NORMAL DISTRIBUTION :\n",
    "eg : score of group of students in maths\n",
    "    \n",
    "2.UNIFORM DISTRIBUTION :\n",
    "eg : in rolling a dice the probability all outcomes is same i.e 1/6\n",
    "    \n",
    "3.BINOMIAL DISTRIBUTION :\n",
    "eg : flipping a coin\n",
    "     S = {H, T}\n",
    "        \n",
    "4.POISSON DISTRIBUTION :\n",
    "eg : number of emails received per hour\n",
    "    \n",
    "5.EXPONENTIAL DISTRIBUTION\n",
    "eg : the time between the arrival of two buses"
   ]
  }
 ],
 "metadata": {
  "kernelspec": {
   "display_name": "Python 3 (ipykernel)",
   "language": "python",
   "name": "python3"
  },
  "language_info": {
   "codemirror_mode": {
    "name": "ipython",
    "version": 3
   },
   "file_extension": ".py",
   "mimetype": "text/x-python",
   "name": "python",
   "nbconvert_exporter": "python",
   "pygments_lexer": "ipython3",
   "version": "3.10.9"
  }
 },
 "nbformat": 4,
 "nbformat_minor": 5
}
